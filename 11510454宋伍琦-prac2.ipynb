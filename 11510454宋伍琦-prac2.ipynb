{
 "cells": [
  {
   "cell_type": "markdown",
   "metadata": {},
   "source": [
    "# Introduction to Artificial Intelligence for Non Computing"
   ]
  },
  {
   "cell_type": "markdown",
   "metadata": {},
   "source": [
    "## Practical 2 (weeks 3 - 4)"
   ]
  },
  {
   "cell_type": "markdown",
   "metadata": {},
   "source": [
    "## Search Techniques"
   ]
  },
  {
   "cell_type": "markdown",
   "metadata": {},
   "source": [
    "The following links provide additional information about depth first search and breath first search"
   ]
  },
  {
   "cell_type": "markdown",
   "metadata": {},
   "source": [
    "- Depth first search:   link：https://pan.baidu.com/s/1bkLHKKbSBNpfFuKwDyURqw  password：oy76\n",
    "- Breath first search:  link：https://pan.baidu.com/s/176g5q0W3rGbSAM5tZMraeg   password：7mdh"
   ]
  },
  {
   "cell_type": "markdown",
   "metadata": {},
   "source": [
    "#### Theory Questions "
   ]
  },
  {
   "cell_type": "markdown",
   "metadata": {},
   "source": [
    "1\\. What is an algorithm? A sequence of steps such as a recipe or a movie script.\n",
    "\n",
    "As a movie viewer, please write an algorithm for a process to \"see a movie\". Include details of the following for example (add additional information yourself):\n",
    "\t- The start conditions \n",
    "\t-- I want to watch a movie\n",
    "\t- Roles (people/actors involved) \n",
    "    --watcher, ticket seller etc \n",
    "    -Equipment required (\"props\")\n",
    "    --seats, ticket etc\n",
    "    - The scenes \n",
    "    -- scene 1 - buy ticket \n",
    "    -- ??? what happens next\n",
    "    -- scene 3, scene 3 ...\n",
    "    - Results/outcomes\n",
    "    -- ?\n"
   ]
  },
  {
   "cell_type": "markdown",
   "metadata": {},
   "source": [
    "_your answer here..._ \n",
    "1.Screenplay:\n",
    "    the conditions of play the movie:\n",
    "    (a)I want to see a movie\n",
    "    (b)I have enough money to buy a movie ticket\n",
    "2.role:\n",
    "    I,the conductor,the projector,the doorman\n",
    "3.props: Movie tickets,chairs,projection equipment(screens, video cameras), money\n",
    "4.the scene: Scene one: buy a ticket\n",
    "\t(a)I walked to the ticket office and take out the money to the conductor.\n",
    "\t(b)the conductor took the money and gave me a movie ticket.\n",
    "Scene two: go to the cinema\n",
    "    (a)I took the ticket, walked into the entrance, and took out the ticket for the doorman.\n",
    "    (b)the doorman let me in.\n",
    "Scene three: waiting for the movie to start, I find my seat and sit down. Scene four: see a movie\n",
    "    (a)the movie started\n",
    "    (b)I was deeply attracted by the story and absorbed in the movie.\n",
    "Scene five: The film is finished\n",
    "    (a)the film is over\n",
    "    (b)I left the cinema with others.\n",
    "5.results   (a)I had a good mood \n",
    "            (b)I spent the money\n",
    "            (C)the cinema earned money\n"
   ]
  },
  {
   "cell_type": "markdown",
   "metadata": {},
   "source": [
    "2\\. A farmer with his wolf, duck and bag of corn come to the east side of a river they wish to cross. There is a boat at the rivers edge, but of course only the farmer can row. The boat can only hold two things (including the rower) at any one time. If the wolf is ever left alone with the duck, the wolf will eat it. Similarly if the duck is ever left alone with the corn, the duck will eat it. How can the farmer get across the river so that all four arrive safely on the other side? "
   ]
  },
  {
   "cell_type": "markdown",
   "metadata": {},
   "source": [
    "_your answer here..._ \n",
    "\n",
    "(1) Farmer takes duck to the right bank.\n",
    "(2) Farmer returns to the left bank with nothing.\n",
    "(3) Farmer takes wolf to the right bank.\n",
    "(4) Farmer returns to the left bank with duck.\n",
    "(5) Farmer takes the bag of corn to the right bank.\n",
    "(6) Famer returns to the left bank with nothing.\n",
    "(7) Farmer takes duck to the right bank.\n",
    "(8) Success!"
   ]
  },
  {
   "cell_type": "markdown",
   "metadata": {},
   "source": [
    " "
   ]
  },
  {
   "cell_type": "markdown",
   "metadata": {},
   "source": [
    "3\\.Explain why we determine our problem goals before we write the problem formulation (including the model and deciding what algorithm or techniques to use - for example search, or other method).\n",
    "\n",
    "See Chapter3.1 (Russel & Norvig)"
   ]
  },
  {
   "cell_type": "markdown",
   "metadata": {},
   "source": [
    "_your answer here..._ \n",
    "\n",
    "In goal formulation, we decide which aspects of the world we are interested in, and which can be ignored or abstracted away. Then in problem formulation we decide how to manipulate the important aspects (and ignore the others). If we did problem formulation first we would not know what to include and what to leave out. That said, it can happen that there is a cycle of iterations between goal formulation, problem formulation, and problem solving until one arrives at a sufficiently useful and efficient solution.!"
   ]
  },
  {
   "cell_type": "markdown",
   "metadata": {},
   "source": [
    "4\\. This question requires you to perform BFS and DFS on paper.\n",
    "\n",
    "<img src=\"img/p1.png\" width=\"180\" height=\"180\" >\n",
    "\n",
    "1. Simulate (on pencil-and-paper) breadth-first search starting from node A when the goal node is K.\n",
    "2. Simulate (on pencil-and-paper) depth first search starting from node A when the goal node is I.\n"
   ]
  },
  {
   "cell_type": "markdown",
   "metadata": {},
   "source": [
    "1. _your answer here..._ \n",
    "2. _your answer here..._ \n",
    "![title](img/bfs+dfs.jpeg)"
   ]
  },
  {
   "cell_type": "markdown",
   "metadata": {},
   "source": [
    "5\\.Consider a state space where the start state is number 1 and each state  k has two successors: numbers 2k and 2k + 1.\n",
    "- a. Draw the portion of the state space for states 1 to 15.\n",
    "- b. Suppose the goal state is 11. List the order in which nodes will be visited for breadthfirst\n",
    "search, depth-limited search with limit 3, and iterative deepening search.\n",
    "- c. How well would bidirectional search work on this problem? What is the branching\n",
    "factor in each direction of the bidirectional search?\n",
    "- d. Does the answer to (c) suggest a reformulation of the problem that would allow you to\n",
    "solve the problem of getting from state 1 to a given goal state with almost no search?\n",
    "- e. Call the action going from k to 2k Left, and the action going to 2k + 1 Right. Can you\n",
    "find an algorithm that outputs the solution to this problem without any search at all?\n",
    "\n",
    "See textbook Chapter3.15"
   ]
  },
  {
   "cell_type": "markdown",
   "metadata": {},
   "source": [
    "_your answer here..._ \n",
    "a.\n",
    "![title](img/state space.jpeg)\n",
    "b.\n",
    "BFS:1 2 3 4 5 6 7 8 9 10 11;Depth-limited search:1 2 4 8 9 5 10 11;\n",
    "Iterative deepening search:1; 1 2 3; 1 2 4 5 3 6 7; 1 2 4 8 9 5 10 11;\n",
    "c.\n",
    "Bidirectional search is very useful, because the only successor of n in the reverse direction is ⌊(n/2)⌋. This helps focus the search. The branching factor is 2 in the forward direction; 1 in the reverse direction.\n",
    "d.\n",
    "Yes\n",
    "e.\n",
    "The solution can be read off the binary numeral for the goal number. Write the goal number in binary. Since we can only reach positive integers, this binary expansion beings with a 1. From most- to least- significant bit, skipping the initial 1, go Left to the node 2n if this bit is 0 and go Right to node 2n + 1 if it is 1. For example, suppose the goal is 11, which is 1011 in binary. The solution is therefore Left, Right, Right."
   ]
  },
  {
   "cell_type": "markdown",
   "metadata": {},
   "source": [
    "### Programming Excercises"
   ]
  },
  {
   "cell_type": "markdown",
   "metadata": {},
   "source": [
    "1\\.Write a program to solve a classic ancient Chinese puzzle:  \n",
    " We count 35 heads and 94 legs among the chickens and rabbits in a farm. How many rabbits and how many chickens do we have? "
   ]
  },
  {
   "cell_type": "code",
   "execution_count": 6,
   "metadata": {},
   "outputs": [
    {
     "name": "stdout",
     "output_type": "stream",
     "text": [
      "Chicken:23 Rabbit:12\n"
     ]
    }
   ],
   "source": [
    "##Hint:Use for loop to iterate all possible\n",
    "## write your answer here!\n",
    "#  chicken: x, rabbit: y\n",
    "for x in range(1, 35):\n",
    "    for y in range(1, 24):\n",
    "        if x + y == 35 and 2 * x + 4 * y == 94:\n",
    "            print(\"Chicken:\"+str(x)+\" Rabbit:\"+str(y))"
   ]
  },
  {
   "cell_type": "markdown",
   "metadata": {},
   "source": [
    "2\\. _Social networking_ Please look at the graph below of social relationships. You have a mango farm, you need to find a mango buyer and sell him your mango that you have grown (just a small farm). To this end, our principle is to use our social network of friends separated by one degree, and then second degree friends (friends of friends), third degree friends (friends of friends of friends).\n",
    "\n",
    "Use the depth first algorithm to search your network until you find a mango seller. \n",
    "\n",
    "We make an assumption that if the person's name ends with m, then it means the person must be the mango seller!\n",
    "\n",
    "\n",
    "<img src=\"img/p3.png\" width=\"500\" height=\"400\" >"
   ]
  },
  {
   "cell_type": "code",
   "execution_count": 7,
   "metadata": {},
   "outputs": [
    {
     "name": "stdout",
     "output_type": "stream",
     "text": [
      "thom is a mango seller!\n"
     ]
    }
   ],
   "source": [
    "## write your answer here!\n",
    "from collections import deque\n",
    "\n",
    "graph = {}\n",
    "graph[\"you\"] = [\"alice\",\"bob\",\"claire\"]\n",
    "graph[\"bob\"] = [\"anuj\",\"peggy\"]\n",
    "graph[\"alice\"] = [\"peggy\"]\n",
    "graph[\"claire\"] = [\"thom\",\"jonny\"]\n",
    "graph[\"anuj\"] = []\n",
    "graph[\"peggy\"] = []\n",
    "graph[\"thom\"] = []\n",
    "graph[\"jonny\"] = []\n",
    "\n",
    "\n",
    "# Suppose we judge this way, if the person's name ends with m, then it is the mango seller.\n",
    "def person_is_seller(name):\n",
    "    return name[-1] == \"m\"\n",
    "\n",
    "def main():\n",
    "    # Create a queue\n",
    "    search_queue = deque()\n",
    "    # Add your neighbor to this search queue.\n",
    "    search_queue += graph[\"you\"]\n",
    "\n",
    "    # This data is used to record people who have checked.\n",
    "    searched = []\n",
    "\n",
    "    # As long as the queue is not empty, the first person will be taken out.\n",
    "    while search_queue:\n",
    "        person = search_queue.popleft()\n",
    "        # It is only when the person has not checked.\n",
    "        if not person in searched:\n",
    "            if person_is_seller(person):\n",
    "                print(person + \" is a mango seller!\")\n",
    "                return True\n",
    "            else:\n",
    "                search_queue += graph[person]\n",
    "                # Mark this person as checked.\n",
    "                searched.append(person)\n",
    "    return False\n",
    "\n",
    "if __name__ == '__main__':\n",
    "    main()"
   ]
  },
  {
   "cell_type": "markdown",
   "metadata": {},
   "source": [
    "3\\. Depth First traverse：Use depth first traversal to traverse all the DLL files on the C disk and output the file names.\n",
    "\n",
    "Update your code to search for a particular filename.\n",
    "\n",
    "What protocol did you use to select the next node to expand on the fringe?"
   ]
  },
  {
   "cell_type": "code",
   "execution_count": null,
   "metadata": {},
   "outputs": [],
   "source": [
    "import fnmatch\n",
    "from collections import deque\n",
    "def get(path):\n",
    "\n",
    "        queue = deque()\n",
    "        queue.append(path)\n",
    "        while len(queue)>0:\n",
    "            temp = queue.popleft()\n",
    "            try:\n",
    "                list = os.listdir(temp)\n",
    "            except WindowsError as e:\n",
    "                pass\n",
    "            for filename in list:\n",
    "                next = os.path.join(temp,filename)\n",
    "                if os.path.isfile(next):\n",
    "                    if fnmatch.fnmatch(filename,'*.dll'):\n",
    "                        print (filename)\n",
    "                elif os.path.isdir(next):\n",
    "                    queue.append(next)\n",
    "\n",
    "get('C:\\\\')"
   ]
  },
  {
   "cell_type": "markdown",
   "metadata": {},
   "source": [
    "4\\.\n",
    "Breadth First traverse：Use breadth traversal to traverse all the DLL files on the C disk and output the filename.\n",
    "\n",
    "Update your code to search for a particular filename."
   ]
  },
  {
   "cell_type": "code",
   "execution_count": 4,
   "metadata": {},
   "outputs": [],
   "source": [
    "## write your answer here!"
   ]
  },
  {
   "cell_type": "markdown",
   "metadata": {},
   "source": [
    "5\\. Uniform cost search"
   ]
  },
  {
   "cell_type": "markdown",
   "metadata": {},
   "source": [
    "Consider a state space where the start state is 2 and each state k has three successors: numbers 2k, 2k+1, 2k+2. The cost from state k to each respective child is k, ground(k/2), k+2.\n",
    "\n",
    "can you implement a uniform-cost-search algorithm with python. The goal state is number 85."
   ]
  },
  {
   "cell_type": "code",
   "execution_count": 9,
   "metadata": {},
   "outputs": [
    {
     "name": "stdout",
     "output_type": "stream",
     "text": [
      "53\n"
     ]
    }
   ],
   "source": [
    "import math\n",
    "goal = 85\n",
    "state = [-1] * (goal + 1)\n",
    "state[2] = 0\n",
    "for k in range(2 , int(goal/2) + 1):\n",
    "    if state[k] < 0: continue\n",
    "    for pos, cost in [\n",
    "        (k*2, k),\n",
    "        (k*2 + 1, math.floor(k/2)),\n",
    "        (k*2+2, k+2)]:\n",
    "        if pos > goal: continue\n",
    "        if state[pos] == -1 or state[pos] > state[k] + cost:\n",
    "          state[pos] = state[k] + cost\n",
    "      # Possibly store k somewhere to build the solution.\n",
    "print (state[goal])"
   ]
  },
  {
   "cell_type": "markdown",
   "metadata": {},
   "source": [
    "6\\.a* question"
   ]
  },
  {
   "cell_type": "markdown",
   "metadata": {},
   "source": [
    "A cute cat stays in the A position, he is hungry. But the food is placed in the B position. Can you help him to find the food? \n",
    "Hint:  The problem isn't easy. It's essential for you to understand the A* algorithm before you solve this problem. Then, you can use some thought of Node in java, when you are in code.\n",
    "\n",
    "<img src=\"img/p4.png\" width=\"500\" height=\"400\" >\n"
   ]
  },
  {
   "cell_type": "code",
   "execution_count": 5,
   "metadata": {},
   "outputs": [],
   "source": [
    "## write your answer here!\n"
   ]
  }
 ],
 "metadata": {
  "kernelspec": {
   "display_name": "Python 3",
   "language": "python",
   "name": "python3"
  },
  "language_info": {
   "codemirror_mode": {
    "name": "ipython",
    "version": 3
   },
   "file_extension": ".py",
   "mimetype": "text/x-python",
   "name": "python",
   "nbconvert_exporter": "python",
   "pygments_lexer": "ipython3",
   "version": "3.7.0"
  }
 },
 "nbformat": 4,
 "nbformat_minor": 2
}
